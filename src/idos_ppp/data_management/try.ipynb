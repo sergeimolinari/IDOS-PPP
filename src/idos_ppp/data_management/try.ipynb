{
 "cells": [
  {
   "cell_type": "code",
   "execution_count": null,
   "metadata": {},
   "outputs": [],
   "source": [
    "import os\n",
    "from pathlib import Path\n",
    "\n",
    "import pandas as pd\n",
    "\n",
    "pd.options.mode.copy_on_write = True\n",
    "pd.options.future.infer_string = True\n",
    "pd.options.plotting.backend = \"plotly\"\n",
    "\n",
    "\n",
    "current_dir = Path(os.getcwd())\n",
    "\n",
    "PROJECT = current_dir.parent.resolve()\n",
    "SRC = PROJECT.parent.resolve()\n",
    "ROOT = PROJECT.joinpath(\"..\", \"..\").resolve()\n",
    "\n",
    "BLD = ROOT.joinpath(\"bld\").resolve()\n",
    "\n",
    "# Folders inside idos_ppp\n",
    "DATA = PROJECT.joinpath(\"data\").resolve()\n",
    "DATA_MGT = PROJECT.joinpath(\"data_management\").resolve()\n",
    "ANALYSIS = PROJECT.joinpath(\"analysis\").resolve()\n",
    "FINAL = PROJECT.joinpath(\"final\").resolve()\n",
    "\n",
    "DOCUMENTS = ROOT.joinpath(\"documents\").resolve()\n",
    "\n",
    "print(ROOT)"
   ]
  },
  {
   "cell_type": "code",
   "execution_count": null,
   "metadata": {},
   "outputs": [],
   "source": [
    "from idos_ppp.config import BLD\n",
    "\n",
    "bld_file = BLD\n",
    "# Construct the path to the \"clean_data.csv\" file\n",
    "clean_data_path = bld_file.joinpath(\"data\", \"clean_data.csv\")\n",
    "\n",
    "# Open the \"clean_data.csv\" file using pandas\n",
    "try:\n",
    "    clean_data = pd.read_csv(clean_data_path)\n",
    "    print(\"Data loaded successfully.\")\n",
    "    # Display the first few rows of the dataframe\n",
    "    print(clean_data.head())\n",
    "except FileNotFoundError:\n",
    "    print(f\"Error: The file {clean_data_path} was not found.\")\n",
    "except Exception as e:\n",
    "    print(f\"An error occurred: {e}\")"
   ]
  },
  {
   "cell_type": "code",
   "execution_count": null,
   "metadata": {},
   "outputs": [],
   "source": [
    "clean_data"
   ]
  }
 ],
 "metadata": {
  "language_info": {
   "codemirror_mode": {
    "name": "ipython",
    "version": 3
   },
   "file_extension": ".py",
   "mimetype": "text/x-python",
   "name": "python",
   "nbconvert_exporter": "python",
   "pygments_lexer": "ipython3"
  }
 },
 "nbformat": 4,
 "nbformat_minor": 2
}
